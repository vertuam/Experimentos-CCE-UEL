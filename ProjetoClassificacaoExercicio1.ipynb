{
  "nbformat": 4,
  "nbformat_minor": 0,
  "metadata": {
    "colab": {
      "name": "Untitled2.ipynb",
      "provenance": [],
      "authorship_tag": "ABX9TyMBAbpsPP59RjvQyl5zcSf6",
      "include_colab_link": true
    },
    "kernelspec": {
      "name": "python3",
      "display_name": "Python 3"
    }
  },
  "cells": [
    {
      "cell_type": "markdown",
      "metadata": {
        "id": "view-in-github",
        "colab_type": "text"
      },
      "source": [
        "<a href=\"https://colab.research.google.com/github/vertuam/Experimentos-CCE-UEL/blob/master/ProjetoClassificacaoExercicio1.ipynb\" target=\"_parent\"><img src=\"https://colab.research.google.com/assets/colab-badge.svg\" alt=\"Open In Colab\"/></a>"
      ]
    },
    {
      "cell_type": "code",
      "metadata": {
        "id": "9cwsGX0NZErW",
        "colab_type": "code",
        "colab": {}
      },
      "source": [
        "# dependencias\n",
        "import pandas as pd\n",
        "import numpy as np\n",
        "import matplotlib.pyplot as plt\n",
        "import seaborn as sns\n",
        "from sklearn.preprocessing import StandardScaler\n",
        "from sklearn.decomposition import PCA\n",
        "\n",
        "\n",
        "url = 'https://archive.ics.uci.edu/ml/machine-learning-databases/zoo/zoo.data'\n",
        "df = pd.read_csv(url, names=[\"animal_name\",\"hair\",\"feathers\",\"eggs\",\"milk\",\"airborne\",\"aquatic\",\"predator\",\"toothed\",\"backbone\",\"breathes\",\"venomous\",\"fins\",\"legs\",\"tail\",\"domestic\",\"catsize\",\"class_type\"])\n",
        "# Dataset is now stored in a Pandas Dataframe\n",
        "df.head()\n",
        "del df['animal_name']"
      ],
      "execution_count": 36,
      "outputs": []
    },
    {
      "cell_type": "code",
      "metadata": {
        "id": "zQN9T10-ouBx",
        "colab_type": "code",
        "colab": {
          "base_uri": "https://localhost:8080/",
          "height": 265
        },
        "outputId": "9fb79754-e7de-490b-eada-8bae56ee79f3"
      },
      "source": [
        "from sklearn.decomposition import PCA\n",
        "\n",
        "model = PCA()\n",
        "model.fit(df)\n",
        "transformed = model.transform(df)\n",
        "\n",
        "# apply PCA\n",
        "colors = np.random.rand(101)\n",
        "pca = PCA(n_components = 2)\n",
        "pca.fit(df)\n",
        "transformed = pca.transform(df)\n",
        "x = transformed[:,0]\n",
        "y = transformed[:,1]\n",
        "plt.scatter(x,y,c=colors)\n",
        "plt.show()"
      ],
      "execution_count": 49,
      "outputs": [
        {
          "output_type": "display_data",
          "data": {
            "image/png": "[encoded data removed]",
            "text/plain": [
              "<Figure size 432x288 with 1 Axes>"
            ]
          },
          "metadata": {
            "tags": [],
            "needs_background": "light"
          }
        }
      ]
    }
  ]
}