{
  "nbformat": 4,
  "nbformat_minor": 0,
  "metadata": {
    "colab": {
      "name": "Untitled2.ipynb",
      "provenance": [],
      "authorship_tag": "ABX9TyPhsVKtZCCagpLzhh0EWVd3",
      "include_colab_link": true
    },
    "kernelspec": {
      "name": "python3",
      "display_name": "Python 3"
    }
  },
  "cells": [
    {
      "cell_type": "markdown",
      "metadata": {
        "id": "view-in-github",
        "colab_type": "text"
      },
      "source": [
        "<a href=\"https://colab.research.google.com/github/vertuam/Experimentos-CCE-UEL/blob/master/ProjetoClassificacaoExercicio1.ipynb\" target=\"_parent\"><img src=\"https://colab.research.google.com/assets/colab-badge.svg\" alt=\"Open In Colab\"/></a>"
      ]
    },
    {
      "cell_type": "code",
      "metadata": {
        "id": "9cwsGX0NZErW",
        "colab_type": "code",
        "colab": {
          "base_uri": "https://localhost:8080/",
          "height": 34
        },
        "outputId": "0e871c2b-4906-40cb-c47a-29ce6904fb9c"
      },
      "source": [
        "# Dependencias\n",
        "import pandas as pd\n",
        "import numpy as np\n",
        "import matplotlib.pyplot as plt\n",
        "import seaborn as sns\n",
        "from sklearn.preprocessing import StandardScaler\n",
        "from sklearn.decomposition import PCA\n",
        "\n",
        "# URL Dataset from reposirioty\n",
        "urlDataset = 'https://github.com/vertuam/Experimentos-CCE-UEL/blob/master/zoo.csv?raw=true'\n",
        "urlClasses = 'https://github.com/vertuam/Experimentos-CCE-UEL/blob/master/class.csv?raw=true'\n",
        "\n",
        "# Load Dataset from reposirioty\n",
        "dfDataset = pd.read_csv(urlDataset, index_col=0)\n",
        "dfClasses = pd.read_csv(urlClasses, index_col=0)\n",
        "\n",
        "print('Dataset carregados com sucesso!')"
      ],
      "execution_count": 285,
      "outputs": [
        {
          "output_type": "stream",
          "text": [
            "Dataset carregados com sucesso!\n"
          ],
          "name": "stdout"
        }
      ]
    },
    {
      "cell_type": "code",
      "metadata": {
        "id": "EmZ7beAl53Vg",
        "colab_type": "code",
        "colab": {
          "base_uri": "https://localhost:8080/",
          "height": 235
        },
        "outputId": "0fc064cd-8d94-491d-dd50-585a294172ec"
      },
      "source": [
        "# Dataset ANIMAIS caregado\n",
        "dfDataset.head()"
      ],
      "execution_count": 102,
      "outputs": [
        {
          "output_type": "execute_result",
          "data": {
            "text/html": [
              "<div>\n",
              "<style scoped>\n",
              "    .dataframe tbody tr th:only-of-type {\n",
              "        vertical-align: middle;\n",
              "    }\n",
              "\n",
              "    .dataframe tbody tr th {\n",
              "        vertical-align: top;\n",
              "    }\n",
              "\n",
              "    .dataframe thead th {\n",
              "        text-align: right;\n",
              "    }\n",
              "</style>\n",
              "<table border=\"1\" class=\"dataframe\">\n",
              "  <thead>\n",
              "    <tr style=\"text-align: right;\">\n",
              "      <th></th>\n",
              "      <th>hair</th>\n",
              "      <th>feathers</th>\n",
              "      <th>eggs</th>\n",
              "      <th>milk</th>\n",
              "      <th>airborne</th>\n",
              "      <th>aquatic</th>\n",
              "      <th>predator</th>\n",
              "      <th>toothed</th>\n",
              "      <th>backbone</th>\n",
              "      <th>breathes</th>\n",
              "      <th>venomous</th>\n",
              "      <th>fins</th>\n",
              "      <th>legs</th>\n",
              "      <th>tail</th>\n",
              "      <th>domestic</th>\n",
              "      <th>catsize</th>\n",
              "      <th>class_type</th>\n",
              "    </tr>\n",
              "    <tr>\n",
              "      <th>animal_name</th>\n",
              "      <th></th>\n",
              "      <th></th>\n",
              "      <th></th>\n",
              "      <th></th>\n",
              "      <th></th>\n",
              "      <th></th>\n",
              "      <th></th>\n",
              "      <th></th>\n",
              "      <th></th>\n",
              "      <th></th>\n",
              "      <th></th>\n",
              "      <th></th>\n",
              "      <th></th>\n",
              "      <th></th>\n",
              "      <th></th>\n",
              "      <th></th>\n",
              "      <th></th>\n",
              "    </tr>\n",
              "  </thead>\n",
              "  <tbody>\n",
              "    <tr>\n",
              "      <th>aardvark</th>\n",
              "      <td>1</td>\n",
              "      <td>0</td>\n",
              "      <td>0</td>\n",
              "      <td>1</td>\n",
              "      <td>0</td>\n",
              "      <td>0</td>\n",
              "      <td>1</td>\n",
              "      <td>1</td>\n",
              "      <td>1</td>\n",
              "      <td>1</td>\n",
              "      <td>0</td>\n",
              "      <td>0</td>\n",
              "      <td>4</td>\n",
              "      <td>0</td>\n",
              "      <td>0</td>\n",
              "      <td>1</td>\n",
              "      <td>1</td>\n",
              "    </tr>\n",
              "    <tr>\n",
              "      <th>antelope</th>\n",
              "      <td>1</td>\n",
              "      <td>0</td>\n",
              "      <td>0</td>\n",
              "      <td>1</td>\n",
              "      <td>0</td>\n",
              "      <td>0</td>\n",
              "      <td>0</td>\n",
              "      <td>1</td>\n",
              "      <td>1</td>\n",
              "      <td>1</td>\n",
              "      <td>0</td>\n",
              "      <td>0</td>\n",
              "      <td>4</td>\n",
              "      <td>1</td>\n",
              "      <td>0</td>\n",
              "      <td>1</td>\n",
              "      <td>1</td>\n",
              "    </tr>\n",
              "    <tr>\n",
              "      <th>bass</th>\n",
              "      <td>0</td>\n",
              "      <td>0</td>\n",
              "      <td>1</td>\n",
              "      <td>0</td>\n",
              "      <td>0</td>\n",
              "      <td>1</td>\n",
              "      <td>1</td>\n",
              "      <td>1</td>\n",
              "      <td>1</td>\n",
              "      <td>0</td>\n",
              "      <td>0</td>\n",
              "      <td>1</td>\n",
              "      <td>0</td>\n",
              "      <td>1</td>\n",
              "      <td>0</td>\n",
              "      <td>0</td>\n",
              "      <td>4</td>\n",
              "    </tr>\n",
              "    <tr>\n",
              "      <th>bear</th>\n",
              "      <td>1</td>\n",
              "      <td>0</td>\n",
              "      <td>0</td>\n",
              "      <td>1</td>\n",
              "      <td>0</td>\n",
              "      <td>0</td>\n",
              "      <td>1</td>\n",
              "      <td>1</td>\n",
              "      <td>1</td>\n",
              "      <td>1</td>\n",
              "      <td>0</td>\n",
              "      <td>0</td>\n",
              "      <td>4</td>\n",
              "      <td>0</td>\n",
              "      <td>0</td>\n",
              "      <td>1</td>\n",
              "      <td>1</td>\n",
              "    </tr>\n",
              "    <tr>\n",
              "      <th>boar</th>\n",
              "      <td>1</td>\n",
              "      <td>0</td>\n",
              "      <td>0</td>\n",
              "      <td>1</td>\n",
              "      <td>0</td>\n",
              "      <td>0</td>\n",
              "      <td>1</td>\n",
              "      <td>1</td>\n",
              "      <td>1</td>\n",
              "      <td>1</td>\n",
              "      <td>0</td>\n",
              "      <td>0</td>\n",
              "      <td>4</td>\n",
              "      <td>1</td>\n",
              "      <td>0</td>\n",
              "      <td>1</td>\n",
              "      <td>1</td>\n",
              "    </tr>\n",
              "  </tbody>\n",
              "</table>\n",
              "</div>"
            ],
            "text/plain": [
              "             hair  feathers  eggs  milk  ...  tail  domestic  catsize  class_type\n",
              "animal_name                              ...                                     \n",
              "aardvark        1         0     0     1  ...     0         0        1           1\n",
              "antelope        1         0     0     1  ...     1         0        1           1\n",
              "bass            0         0     1     0  ...     1         0        0           4\n",
              "bear            1         0     0     1  ...     0         0        1           1\n",
              "boar            1         0     0     1  ...     1         0        1           1\n",
              "\n",
              "[5 rows x 17 columns]"
            ]
          },
          "metadata": {
            "tags": []
          },
          "execution_count": 102
        }
      ]
    },
    {
      "cell_type": "code",
      "metadata": {
        "id": "4_xXB6kk54Jf",
        "colab_type": "code",
        "colab": {
          "base_uri": "https://localhost:8080/",
          "height": 235
        },
        "outputId": "33398f9a-7a02-42ed-c498-53599f95f40d"
      },
      "source": [
        "# Dataset de CLASSES carregado\n",
        "dfClasses.head()"
      ],
      "execution_count": 103,
      "outputs": [
        {
          "output_type": "execute_result",
          "data": {
            "text/html": [
              "<div>\n",
              "<style scoped>\n",
              "    .dataframe tbody tr th:only-of-type {\n",
              "        vertical-align: middle;\n",
              "    }\n",
              "\n",
              "    .dataframe tbody tr th {\n",
              "        vertical-align: top;\n",
              "    }\n",
              "\n",
              "    .dataframe thead th {\n",
              "        text-align: right;\n",
              "    }\n",
              "</style>\n",
              "<table border=\"1\" class=\"dataframe\">\n",
              "  <thead>\n",
              "    <tr style=\"text-align: right;\">\n",
              "      <th></th>\n",
              "      <th>Number_Of_Animal_Species_In_Class</th>\n",
              "      <th>Class_Type</th>\n",
              "      <th>Animal_Names</th>\n",
              "    </tr>\n",
              "    <tr>\n",
              "      <th>Class_Number</th>\n",
              "      <th></th>\n",
              "      <th></th>\n",
              "      <th></th>\n",
              "    </tr>\n",
              "  </thead>\n",
              "  <tbody>\n",
              "    <tr>\n",
              "      <th>1</th>\n",
              "      <td>41</td>\n",
              "      <td>Mammal</td>\n",
              "      <td>aardvark, antelope, bear, boar, buffalo, calf,...</td>\n",
              "    </tr>\n",
              "    <tr>\n",
              "      <th>2</th>\n",
              "      <td>20</td>\n",
              "      <td>Bird</td>\n",
              "      <td>chicken, crow, dove, duck, flamingo, gull, haw...</td>\n",
              "    </tr>\n",
              "    <tr>\n",
              "      <th>3</th>\n",
              "      <td>5</td>\n",
              "      <td>Reptile</td>\n",
              "      <td>pitviper, seasnake, slowworm, tortoise, tuatara</td>\n",
              "    </tr>\n",
              "    <tr>\n",
              "      <th>4</th>\n",
              "      <td>13</td>\n",
              "      <td>Fish</td>\n",
              "      <td>bass, carp, catfish, chub, dogfish, haddock, h...</td>\n",
              "    </tr>\n",
              "    <tr>\n",
              "      <th>5</th>\n",
              "      <td>4</td>\n",
              "      <td>Amphibian</td>\n",
              "      <td>frog, frog, newt, toad</td>\n",
              "    </tr>\n",
              "  </tbody>\n",
              "</table>\n",
              "</div>"
            ],
            "text/plain": [
              "              Number_Of_Animal_Species_In_Class  ...                                       Animal_Names\n",
              "Class_Number                                     ...                                                   \n",
              "1                                            41  ...  aardvark, antelope, bear, boar, buffalo, calf,...\n",
              "2                                            20  ...  chicken, crow, dove, duck, flamingo, gull, haw...\n",
              "3                                             5  ...    pitviper, seasnake, slowworm, tortoise, tuatara\n",
              "4                                            13  ...  bass, carp, catfish, chub, dogfish, haddock, h...\n",
              "5                                             4  ...                             frog, frog, newt, toad\n",
              "\n",
              "[5 rows x 3 columns]"
            ]
          },
          "metadata": {
            "tags": []
          },
          "execution_count": 103
        }
      ]
    },
    {
      "cell_type": "code",
      "metadata": {
        "id": "mW-bBmC_6I0E",
        "colab_type": "code",
        "colab": {
          "base_uri": "https://localhost:8080/",
          "height": 323
        },
        "outputId": "f8cd98d5-cec6-4882-a5da-ce3d45091a4c"
      },
      "source": [
        "# Verificar a qualidade dos dados e valores ausentes (NaN) (Animais)\n",
        "dfDataset.isnull().sum()"
      ],
      "execution_count": 95,
      "outputs": [
        {
          "output_type": "execute_result",
          "data": {
            "text/plain": [
              "hair          0\n",
              "feathers      0\n",
              "eggs          0\n",
              "milk          0\n",
              "airborne      0\n",
              "aquatic       0\n",
              "predator      0\n",
              "toothed       0\n",
              "backbone      0\n",
              "breathes      0\n",
              "venomous      0\n",
              "fins          0\n",
              "legs          0\n",
              "tail          0\n",
              "domestic      0\n",
              "catsize       0\n",
              "class_type    0\n",
              "dtype: int64"
            ]
          },
          "metadata": {
            "tags": []
          },
          "execution_count": 95
        }
      ]
    },
    {
      "cell_type": "code",
      "metadata": {
        "id": "znalizGI6jSS",
        "colab_type": "code",
        "colab": {
          "base_uri": "https://localhost:8080/",
          "height": 297
        },
        "outputId": "bc9478a6-4165-4095-8296-25b9c5c35ff6"
      },
      "source": [
        "# Dados do Dataset\n",
        "dfDataset.describe()"
      ],
      "execution_count": 97,
      "outputs": [
        {
          "output_type": "execute_result",
          "data": {
            "text/html": [
              "<div>\n",
              "<style scoped>\n",
              "    .dataframe tbody tr th:only-of-type {\n",
              "        vertical-align: middle;\n",
              "    }\n",
              "\n",
              "    .dataframe tbody tr th {\n",
              "        vertical-align: top;\n",
              "    }\n",
              "\n",
              "    .dataframe thead th {\n",
              "        text-align: right;\n",
              "    }\n",
              "</style>\n",
              "<table border=\"1\" class=\"dataframe\">\n",
              "  <thead>\n",
              "    <tr style=\"text-align: right;\">\n",
              "      <th></th>\n",
              "      <th>hair</th>\n",
              "      <th>feathers</th>\n",
              "      <th>eggs</th>\n",
              "      <th>milk</th>\n",
              "      <th>airborne</th>\n",
              "      <th>aquatic</th>\n",
              "      <th>predator</th>\n",
              "      <th>toothed</th>\n",
              "      <th>backbone</th>\n",
              "      <th>breathes</th>\n",
              "      <th>venomous</th>\n",
              "      <th>fins</th>\n",
              "      <th>legs</th>\n",
              "      <th>tail</th>\n",
              "      <th>domestic</th>\n",
              "      <th>catsize</th>\n",
              "      <th>class_type</th>\n",
              "    </tr>\n",
              "  </thead>\n",
              "  <tbody>\n",
              "    <tr>\n",
              "      <th>count</th>\n",
              "      <td>101.000000</td>\n",
              "      <td>101.000000</td>\n",
              "      <td>101.000000</td>\n",
              "      <td>101.000000</td>\n",
              "      <td>101.000000</td>\n",
              "      <td>101.000000</td>\n",
              "      <td>101.000000</td>\n",
              "      <td>101.000000</td>\n",
              "      <td>101.000000</td>\n",
              "      <td>101.000000</td>\n",
              "      <td>101.000000</td>\n",
              "      <td>101.000000</td>\n",
              "      <td>101.000000</td>\n",
              "      <td>101.000000</td>\n",
              "      <td>101.000000</td>\n",
              "      <td>101.000000</td>\n",
              "      <td>101.000000</td>\n",
              "    </tr>\n",
              "    <tr>\n",
              "      <th>mean</th>\n",
              "      <td>0.425743</td>\n",
              "      <td>0.198020</td>\n",
              "      <td>0.584158</td>\n",
              "      <td>0.405941</td>\n",
              "      <td>0.237624</td>\n",
              "      <td>0.356436</td>\n",
              "      <td>0.554455</td>\n",
              "      <td>0.603960</td>\n",
              "      <td>0.821782</td>\n",
              "      <td>0.792079</td>\n",
              "      <td>0.079208</td>\n",
              "      <td>0.168317</td>\n",
              "      <td>2.841584</td>\n",
              "      <td>0.742574</td>\n",
              "      <td>0.128713</td>\n",
              "      <td>0.435644</td>\n",
              "      <td>2.831683</td>\n",
              "    </tr>\n",
              "    <tr>\n",
              "      <th>std</th>\n",
              "      <td>0.496921</td>\n",
              "      <td>0.400495</td>\n",
              "      <td>0.495325</td>\n",
              "      <td>0.493522</td>\n",
              "      <td>0.427750</td>\n",
              "      <td>0.481335</td>\n",
              "      <td>0.499505</td>\n",
              "      <td>0.491512</td>\n",
              "      <td>0.384605</td>\n",
              "      <td>0.407844</td>\n",
              "      <td>0.271410</td>\n",
              "      <td>0.376013</td>\n",
              "      <td>2.033385</td>\n",
              "      <td>0.439397</td>\n",
              "      <td>0.336552</td>\n",
              "      <td>0.498314</td>\n",
              "      <td>2.102709</td>\n",
              "    </tr>\n",
              "    <tr>\n",
              "      <th>min</th>\n",
              "      <td>0.000000</td>\n",
              "      <td>0.000000</td>\n",
              "      <td>0.000000</td>\n",
              "      <td>0.000000</td>\n",
              "      <td>0.000000</td>\n",
              "      <td>0.000000</td>\n",
              "      <td>0.000000</td>\n",
              "      <td>0.000000</td>\n",
              "      <td>0.000000</td>\n",
              "      <td>0.000000</td>\n",
              "      <td>0.000000</td>\n",
              "      <td>0.000000</td>\n",
              "      <td>0.000000</td>\n",
              "      <td>0.000000</td>\n",
              "      <td>0.000000</td>\n",
              "      <td>0.000000</td>\n",
              "      <td>1.000000</td>\n",
              "    </tr>\n",
              "    <tr>\n",
              "      <th>25%</th>\n",
              "      <td>0.000000</td>\n",
              "      <td>0.000000</td>\n",
              "      <td>0.000000</td>\n",
              "      <td>0.000000</td>\n",
              "      <td>0.000000</td>\n",
              "      <td>0.000000</td>\n",
              "      <td>0.000000</td>\n",
              "      <td>0.000000</td>\n",
              "      <td>1.000000</td>\n",
              "      <td>1.000000</td>\n",
              "      <td>0.000000</td>\n",
              "      <td>0.000000</td>\n",
              "      <td>2.000000</td>\n",
              "      <td>0.000000</td>\n",
              "      <td>0.000000</td>\n",
              "      <td>0.000000</td>\n",
              "      <td>1.000000</td>\n",
              "    </tr>\n",
              "    <tr>\n",
              "      <th>50%</th>\n",
              "      <td>0.000000</td>\n",
              "      <td>0.000000</td>\n",
              "      <td>1.000000</td>\n",
              "      <td>0.000000</td>\n",
              "      <td>0.000000</td>\n",
              "      <td>0.000000</td>\n",
              "      <td>1.000000</td>\n",
              "      <td>1.000000</td>\n",
              "      <td>1.000000</td>\n",
              "      <td>1.000000</td>\n",
              "      <td>0.000000</td>\n",
              "      <td>0.000000</td>\n",
              "      <td>4.000000</td>\n",
              "      <td>1.000000</td>\n",
              "      <td>0.000000</td>\n",
              "      <td>0.000000</td>\n",
              "      <td>2.000000</td>\n",
              "    </tr>\n",
              "    <tr>\n",
              "      <th>75%</th>\n",
              "      <td>1.000000</td>\n",
              "      <td>0.000000</td>\n",
              "      <td>1.000000</td>\n",
              "      <td>1.000000</td>\n",
              "      <td>0.000000</td>\n",
              "      <td>1.000000</td>\n",
              "      <td>1.000000</td>\n",
              "      <td>1.000000</td>\n",
              "      <td>1.000000</td>\n",
              "      <td>1.000000</td>\n",
              "      <td>0.000000</td>\n",
              "      <td>0.000000</td>\n",
              "      <td>4.000000</td>\n",
              "      <td>1.000000</td>\n",
              "      <td>0.000000</td>\n",
              "      <td>1.000000</td>\n",
              "      <td>4.000000</td>\n",
              "    </tr>\n",
              "    <tr>\n",
              "      <th>max</th>\n",
              "      <td>1.000000</td>\n",
              "      <td>1.000000</td>\n",
              "      <td>1.000000</td>\n",
              "      <td>1.000000</td>\n",
              "      <td>1.000000</td>\n",
              "      <td>1.000000</td>\n",
              "      <td>1.000000</td>\n",
              "      <td>1.000000</td>\n",
              "      <td>1.000000</td>\n",
              "      <td>1.000000</td>\n",
              "      <td>1.000000</td>\n",
              "      <td>1.000000</td>\n",
              "      <td>8.000000</td>\n",
              "      <td>1.000000</td>\n",
              "      <td>1.000000</td>\n",
              "      <td>1.000000</td>\n",
              "      <td>7.000000</td>\n",
              "    </tr>\n",
              "  </tbody>\n",
              "</table>\n",
              "</div>"
            ],
            "text/plain": [
              "             hair    feathers        eggs  ...    domestic     catsize  class_type\n",
              "count  101.000000  101.000000  101.000000  ...  101.000000  101.000000  101.000000\n",
              "mean     0.425743    0.198020    0.584158  ...    0.128713    0.435644    2.831683\n",
              "std      0.496921    0.400495    0.495325  ...    0.336552    0.498314    2.102709\n",
              "min      0.000000    0.000000    0.000000  ...    0.000000    0.000000    1.000000\n",
              "25%      0.000000    0.000000    0.000000  ...    0.000000    0.000000    1.000000\n",
              "50%      0.000000    0.000000    1.000000  ...    0.000000    0.000000    2.000000\n",
              "75%      1.000000    0.000000    1.000000  ...    0.000000    1.000000    4.000000\n",
              "max      1.000000    1.000000    1.000000  ...    1.000000    1.000000    7.000000\n",
              "\n",
              "[8 rows x 17 columns]"
            ]
          },
          "metadata": {
            "tags": []
          },
          "execution_count": 97
        }
      ]
    },
    {
      "cell_type": "code",
      "metadata": {
        "id": "6b3OCmyN7FsO",
        "colab_type": "code",
        "colab": {
          "base_uri": "https://localhost:8080/",
          "height": 34
        },
        "outputId": "6c965ab1-512a-4c8b-c88c-48e6e67fffe4"
      },
      "source": [
        "# Vsariable and Print da classes existentes no dataset\n",
        "print(dfDataset.class_type.unique())\n",
        "unique = dfDataset.class_type.unique()"
      ],
      "execution_count": 220,
      "outputs": [
        {
          "output_type": "stream",
          "text": [
            "[1 4 2 7 6 5 3]\n"
          ],
          "name": "stdout"
        }
      ]
    },
    {
      "cell_type": "code",
      "metadata": {
        "id": "F2X_LJl_7L0x",
        "colab_type": "code",
        "colab": {
          "base_uri": "https://localhost:8080/",
          "height": 436
        },
        "outputId": "69cfdedb-e999-4e41-e43b-903731ab80df"
      },
      "source": [
        "# Join tabela animal e classes\n",
        "df=pd.merge(dfDataset, dfClasses, how='left', left_on='class_type', right_on='Class_Number')\n",
        "df.head()\n",
        "\n",
        "# Verificar os tipos e as quantidades de animais\n",
        "sns.factorplot('Class_Type', data=df, kind=\"count\", aspect=2)"
      ],
      "execution_count": 111,
      "outputs": [
        {
          "output_type": "stream",
          "text": [
            "/usr/local/lib/python3.6/dist-packages/seaborn/categorical.py:3666: UserWarning: The `factorplot` function has been renamed to `catplot`. The original name will be removed in a future release. Please update your code. Note that the default `kind` in `factorplot` (`'point'`) has changed `'strip'` in `catplot`.\n",
            "  warnings.warn(msg)\n"
          ],
          "name": "stderr"
        },
        {
          "output_type": "execute_result",
          "data": {
            "text/plain": [
              "<seaborn.axisgrid.FacetGrid at 0x7f0a7e9bde10>"
            ]
          },
          "metadata": {
            "tags": []
          },
          "execution_count": 111
        },
        {
          "output_type": "display_data",
          "data": {
            "image/png": "[encoded data removed]",
            "text/plain": [
              "<Figure size 720x360 with 1 Axes>"
            ]
          },
          "metadata": {
            "tags": []
          }
        }
      ]
    },
    {
      "cell_type": "code",
      "metadata": {
        "id": "LJxmFWXn_ExC",
        "colab_type": "code",
        "colab": {
          "base_uri": "https://localhost:8080/",
          "height": 1000
        },
        "outputId": "04d95934-e33d-427c-d71a-2039795b4789"
      },
      "source": [
        "from sklearn.decomposition import PCA\n",
        "model = PCA()\n",
        "model.fit(dfDataset[0:17])\n",
        "transformed = model.transform(dfDataset[0:17])\n",
        "print('Principle components: ',model.components_)"
      ],
      "execution_count": 116,
      "outputs": [
        {
          "output_type": "stream",
          "text": [
            "Principle components:  [[-1.69933486e-01 -2.88763122e-03  1.69933486e-01 -1.69933486e-01\n",
            "  -2.88763122e-03  1.32090028e-01  6.63942352e-02 -8.31446671e-02\n",
            "  -8.60322983e-02 -1.72821118e-01  0.00000000e+00  8.67888193e-02\n",
            "  -4.66669341e-01 -2.36644486e-02 -2.30072961e-02 -1.49473144e-01\n",
            "   7.73672617e-01]\n",
            " [ 2.41158209e-02 -4.11575317e-02 -2.41158209e-02  2.41158209e-02\n",
            "  -4.11575317e-02  1.47344802e-02  5.05252553e-02 -1.15969521e-01\n",
            "  -1.57127053e-01 -1.70417108e-02  0.00000000e+00 -1.40085342e-01\n",
            "   8.18180590e-01 -1.72051147e-01 -5.38566268e-02  2.06660890e-02\n",
            "   4.81348759e-01]\n",
            " [-2.28412231e-01  4.18277875e-01  2.28412231e-01 -2.28412231e-01\n",
            "   4.18277875e-01 -1.87344196e-01 -2.00056295e-01 -4.40976727e-01\n",
            "  -2.26988529e-02  1.89865643e-01  0.00000000e+00 -2.12564496e-01\n",
            "   6.37049736e-02  6.24504129e-02  2.50456387e-01 -2.54222984e-01\n",
            "  -8.32224962e-02]\n",
            " [-1.75969751e-03 -1.31065133e-01  1.75969751e-03 -1.75969751e-03\n",
            "  -1.31065133e-01  2.74004136e-01 -6.40153506e-01  2.01859003e-01\n",
            "   7.07938699e-02 -1.32824830e-01 -0.00000000e+00  2.03618700e-01\n",
            "   1.32686123e-01  1.35508156e-01  5.60825427e-01 -1.49588351e-01\n",
            "   5.50277481e-02]\n",
            " [ 2.29462728e-01 -1.16933164e-01 -2.29462728e-01  2.29462728e-01\n",
            "  -1.16933164e-01 -4.70648008e-01 -2.59900973e-01 -7.73233469e-02\n",
            "  -1.94256511e-01  1.12529564e-01 -0.00000000e+00 -3.06786075e-01\n",
            "  -2.65240035e-01 -4.69710286e-01  2.52070326e-01  6.46045029e-02\n",
            "   1.28247676e-01]\n",
            " [-6.60996112e-02  1.65696946e-02  6.60996112e-02 -6.60996112e-02\n",
            "   1.65696946e-02  2.15469605e-01  3.15322202e-01  1.02666257e-01\n",
            "   1.19235952e-01 -4.95299166e-02 -0.00000000e+00  1.68765869e-01\n",
            "   3.74803848e-02 -7.11885633e-01  1.99605372e-01 -4.46869489e-01\n",
            "  -1.92548412e-01]\n",
            " [ 1.53129022e-02 -1.08838622e-02 -1.53129022e-02  1.53129022e-02\n",
            "  -1.08838622e-02 -4.09852751e-02  5.79815569e-01 -1.57201883e-02\n",
            "  -2.66040505e-02  4.42904008e-03 -0.00000000e+00 -3.10330906e-02\n",
            "   3.75307372e-03  2.22942161e-01  7.18277849e-01  3.00865205e-01\n",
            "   5.56411691e-02]\n",
            " [ 1.67227423e-01 -1.37595770e-01 -1.67227423e-01  1.67227423e-01\n",
            "  -1.37595770e-01 -2.18315348e-01  2.00003181e-01  5.37997652e-02\n",
            "  -8.37960051e-02  2.96316527e-02  0.00000000e+00 -1.13427658e-01\n",
            "   2.71006985e-02  4.12570625e-01 -2.71304842e-03 -7.71583212e-01\n",
            "   2.48972869e-02]\n",
            " [ 1.86811085e-01  3.51350435e-02 -1.86811085e-01  1.86811085e-01\n",
            "   3.51350435e-02  7.44903298e-01  7.48322870e-03 -2.31769438e-01\n",
            "  -1.96634395e-01  2.21946128e-01  0.00000000e+00 -4.18580523e-01\n",
            "  -1.36494426e-01  1.57875525e-02  2.09378653e-03 -2.23178058e-02\n",
            "  -4.08001569e-02]\n",
            " [ 6.60376232e-01  3.99707418e-01  9.81436904e-02 -7.38166528e-02\n",
            "  -1.83160415e-01  1.12146128e-15  1.19234822e-16 -1.05272458e-01\n",
            "   5.57644068e-01  5.87910663e-02 -1.11022302e-16  4.74176725e-02\n",
            "  -2.35375043e-16  2.53104657e-16  9.45380822e-17 -1.89072981e-16\n",
            "   1.66596428e-01]\n",
            " [ 4.09073244e-02 -4.52967773e-02  3.76890195e-01  3.08432663e-02\n",
            "   2.68245104e-01 -4.63997986e-16  4.06924043e-17  6.77395533e-01\n",
            "   7.09871692e-02  4.52602515e-01  1.75207071e-16 -3.00459896e-01\n",
            "   1.74443750e-16  5.92541827e-17 -2.58509462e-17 -1.75309770e-16\n",
            "   1.49307602e-01]\n",
            " [-2.44769353e-01 -1.70120814e-01  5.23819811e-01 -1.03551870e-02\n",
            "  -6.48703561e-01 -6.69406790e-17  7.27126139e-18 -1.76702793e-01\n",
            "   1.46210742e-01 -1.15002127e-02  1.38777878e-16 -3.79976256e-01\n",
            "   5.03628865e-17 -2.20373706e-16  1.69340179e-16  2.88461913e-16\n",
            "  -1.36822769e-01]\n",
            " [ 2.18179513e-02  6.85742769e-01  6.69404542e-02  2.64515898e-02\n",
            "  -2.98386389e-01  3.31170858e-16  1.52605078e-16  3.34099683e-01\n",
            "  -5.10879804e-01 -2.36114631e-01 -2.04697370e-16 -3.90027116e-02\n",
            "  -1.16469045e-16 -5.56296543e-17  1.92135663e-16  2.02706579e-18\n",
            "  -7.19276109e-02]\n",
            " [-3.77456096e-01  2.20921870e-01 -3.34732928e-01  2.82222331e-01\n",
            "   1.04033860e-01 -1.91565669e-16 -8.06340315e-17  1.73520196e-01\n",
            "   5.01096315e-01 -3.85733891e-01 -1.11022302e-16 -4.10425620e-01\n",
            "  -6.07661571e-17 -7.52902612e-17 -1.18735152e-16 -2.62274246e-17\n",
            "   8.80636305e-02]\n",
            " [ 2.39722423e-01 -8.86353080e-02  5.05616069e-01  5.87173805e-01\n",
            "   3.37646335e-01  1.66070436e-16 -2.60243735e-17 -1.27196229e-01\n",
            "  -8.63619794e-02 -4.37284532e-01 -1.11022302e-16  4.87769178e-02\n",
            "  -1.18053064e-16  1.49699381e-16  1.05877916e-16 -4.08848284e-17\n",
            "  -5.49270970e-02]\n",
            " [-3.16460793e-01  2.32948662e-01 -2.29126380e-03  6.05488209e-01\n",
            "  -1.78179160e-01  4.80855534e-16 -7.93795845e-18 -1.09412153e-01\n",
            "   8.42457117e-02  4.96669907e-01  5.55111512e-17  4.06577514e-01\n",
            "  -2.59386934e-16  1.12019155e-16  9.84038432e-17 -7.36493435e-17\n",
            "   1.27137024e-01]\n",
            " [ 0.00000000e+00 -2.73493327e-17 -6.87980462e-17 -8.95188620e-17\n",
            "   1.90282928e-16 -3.09689535e-31 -2.31111593e-33  2.08134652e-16\n",
            "   6.37102292e-17 -1.04242620e-16  1.00000000e+00 -1.98404159e-16\n",
            "   9.86076132e-32 -2.79259842e-33 -7.31612638e-32 -2.15704154e-32\n",
            "   2.44802410e-17]]\n"
          ],
          "name": "stdout"
        }
      ]
    },
    {
      "cell_type": "code",
      "metadata": {
        "id": "ZYfiqdUm_1OY",
        "colab_type": "code",
        "colab": {
          "base_uri": "https://localhost:8080/",
          "height": 285
        },
        "outputId": "e7dfe2b6-b398-48fe-b673-15f893b1986c"
      },
      "source": [
        "# PCA Variance\n",
        "scaler = StandardScaler()\n",
        "pca = PCA()\n",
        "pipeline = make_pipeline(scaler, pca)\n",
        "pipeline.fit(dfDataset)\n",
        "\n",
        "plt.bar(range(pca.n_components_), pca.explained_variance_)\n",
        "plt.xlabel('PCA feature')\n",
        "plt.ylabel('variance')\n",
        "plt.show()"
      ],
      "execution_count": 118,
      "outputs": [
        {
          "output_type": "display_data",
          "data": {
            "image/png": "[encoded data removed]",
            "text/plain": [
              "<Figure size 432x288 with 1 Axes>"
            ]
          },
          "metadata": {
            "tags": []
          }
        }
      ]
    },
    {
      "cell_type": "code",
      "metadata": {
        "id": "KIK8exyC_7-b",
        "colab_type": "code",
        "colab": {
          "base_uri": "https://localhost:8080/",
          "height": 370
        },
        "outputId": "a136a1cc-29c2-4dc5-d39e-0a286c277575"
      },
      "source": [
        "# a) Visualizar usando uma PCA as 7 classes de animais;\n",
        "\n",
        "# PCA\n",
        "pca = PCA(n_components = 2)\n",
        "pca.fit(dfDataset)\n",
        "transformed = pca.transform(dfDataset)\n",
        "x = transformed[:,0]\n",
        "y = transformed[:,1]\n",
        "legend = []\n",
        "color = []\n",
        "for i in dfDataset.index:\n",
        "  #Refatoar para usar while para deixar dinamico quanto ao numero de classes\n",
        "  try:\n",
        "    if dfDataset['class_type'][i]==1:\n",
        "      legend = np.append(legend, ['Mammal'])\n",
        "      color  = np.append(color, ['red'])\n",
        "    elif dfDataset['class_type'][i]==2:\n",
        "      legend = np.append(legend, 'Bird')\n",
        "      color  = np.append(color, ['green'])\n",
        "    elif dfDataset['class_type'][i]==3:\n",
        "      legend = np.append(legend, 'Reptile')\n",
        "      color  = np.append(color, ['blue'])\n",
        "    elif dfDataset['class_type'][i]==4:\n",
        "      legend = np.append(legend, 'Fish')\n",
        "      color  = np.append(color, ['purple'])\n",
        "    elif dfDataset['class_type'][i]==5:\n",
        "      legend = np.append(legend, 'Amphibian')\n",
        "      color  = np.append(color, ['yellow'])\n",
        "    elif dfDataset['class_type'][i]==6:\n",
        "      legend = np.append(legend, 'Bug')\n",
        "      color  = np.append(color, ['pink'])\n",
        "    elif dfDataset['class_type'][i]==7:\n",
        "      legend = np.append(legend, 'Invertebrate')\n",
        "      color  = np.append(color, ['violet'])\n",
        "\n",
        "  except:\n",
        "    color  = np.append(color, ['black'])\n",
        "    print(' :(  - Erro: Dados Ilegíveis! -> ', dfDataset['class_type'][i])\n",
        "\n",
        "plt.scatter(x, y, c=color)\n",
        "\n",
        "plt.legend(legend)\n",
        "plt.show()"
      ],
      "execution_count": 277,
      "outputs": [
        {
          "output_type": "stream",
          "text": [
            " :(  - Erro: Dados Ilegíveis! ->  frog    5\n",
            "frog    5\n",
            "Name: class_type, dtype: int64\n",
            " :(  - Erro: Dados Ilegíveis! ->  frog    5\n",
            "frog    5\n",
            "Name: class_type, dtype: int64\n"
          ],
          "name": "stdout"
        },
        {
          "output_type": "display_data",
          "data": {
            "image/png": "[encoded data removed]",
            "text/plain": [
              "<Figure size 432x288 with 1 Axes>"
            ]
          },
          "metadata": {
            "tags": []
          }
        }
      ]
    },
    {
      "cell_type": "code",
      "metadata": {
        "id": "NuZFAZznl96w",
        "colab_type": "code",
        "colab": {}
      },
      "source": [
        "# b) Implemente um código para dividir o conjunto de animais entre treino e teste;\n",
        "\n",
        "from sklearn.model_selection import train_test_split\n",
        "\n",
        "# 80/20 split\n",
        "# Split dataset em training set e test set\n",
        "\n",
        "X = dfDataset.iloc[:,1:14]\n",
        "y = dfDataset.iloc[:,14]\n",
        "X_train, X_test, y_train, y_test = train_test_split(X, y, test_size=0.2, random_state=1)"
      ],
      "execution_count": 307,
      "outputs": []
    },
    {
      "cell_type": "code",
      "metadata": {
        "id": "XO4y9pjwtU6O",
        "colab_type": "code",
        "colab": {
          "base_uri": "https://localhost:8080/",
          "height": 34
        },
        "outputId": "aa799ab3-a331-4a25-cc38-f06cb68dafb7"
      },
      "source": [
        "# c) Implemente um k-NN e demonstre graficamente o melhor valor de \"k\" encontrado;\n",
        "\n",
        "from sklearn.neighbors import KNeighborsClassifier\n",
        "\n",
        "y=dfDataset['class_type'].values\n",
        "X=dfDataset.drop(['class_type'],axis=1).values\n",
        "\n",
        "X_train,X_test,y_train,y_test = train_test_split(X, y, test_size=0.3, random_state=42)\n",
        "knn = KNeighborsClassifier(n_neighbors=7)\n",
        "knn.fit(X_train,y_train)\n",
        "\n",
        "knn.score(X_train,y_train)"
      ],
      "execution_count": 312,
      "outputs": [
        {
          "output_type": "execute_result",
          "data": {
            "text/plain": [
              "0.8714285714285714"
            ]
          },
          "metadata": {
            "tags": []
          },
          "execution_count": 312
        }
      ]
    },
    {
      "cell_type": "code",
      "metadata": {
        "id": "nXCToi2Lt7n7",
        "colab_type": "code",
        "colab": {}
      },
      "source": [
        "# d) Implemente uma SVM e demonstre graficamente a melhor configuração de SVM (variando no mínimo kernel e cost);\n",
        "\n"
      ],
      "execution_count": null,
      "outputs": []
    }
  ]
}